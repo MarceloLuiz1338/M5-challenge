{
 "cells": [
  {
   "cell_type": "code",
   "execution_count": 98,
   "metadata": {},
   "outputs": [],
   "source": [
    "import pandas as pd\n",
    "import numpy as np"
   ]
  },
  {
   "cell_type": "code",
   "execution_count": 289,
   "metadata": {},
   "outputs": [],
   "source": [
    "data=pd.read_csv('data/raw/sales_train_validation.csv')"
   ]
  },
  {
   "cell_type": "code",
   "execution_count": 100,
   "metadata": {},
   "outputs": [],
   "source": [
    "data=pd.read_csv('data/raw/sales_train_validation.csv')\n",
    "calendar=pd.read_csv('data/raw/calendar.csv')\n",
    "prices=pd.read_csv('data/raw/sell_prices.csv')"
   ]
  },
  {
   "cell_type": "markdown",
   "metadata": {},
   "source": [
    "# EDA"
   ]
  },
  {
   "cell_type": "code",
   "execution_count": 101,
   "metadata": {},
   "outputs": [
    {
     "data": {
      "text/html": [
       "<div>\n",
       "<style scoped>\n",
       "    .dataframe tbody tr th:only-of-type {\n",
       "        vertical-align: middle;\n",
       "    }\n",
       "\n",
       "    .dataframe tbody tr th {\n",
       "        vertical-align: top;\n",
       "    }\n",
       "\n",
       "    .dataframe thead th {\n",
       "        text-align: right;\n",
       "    }\n",
       "</style>\n",
       "<table border=\"1\" class=\"dataframe\">\n",
       "  <thead>\n",
       "    <tr style=\"text-align: right;\">\n",
       "      <th></th>\n",
       "      <th>id</th>\n",
       "      <th>item_id</th>\n",
       "      <th>dept_id</th>\n",
       "      <th>cat_id</th>\n",
       "      <th>store_id</th>\n",
       "      <th>state_id</th>\n",
       "      <th>d_1</th>\n",
       "      <th>d_2</th>\n",
       "      <th>d_3</th>\n",
       "      <th>d_4</th>\n",
       "      <th>...</th>\n",
       "      <th>d_1904</th>\n",
       "      <th>d_1905</th>\n",
       "      <th>d_1906</th>\n",
       "      <th>d_1907</th>\n",
       "      <th>d_1908</th>\n",
       "      <th>d_1909</th>\n",
       "      <th>d_1910</th>\n",
       "      <th>d_1911</th>\n",
       "      <th>d_1912</th>\n",
       "      <th>d_1913</th>\n",
       "    </tr>\n",
       "  </thead>\n",
       "  <tbody>\n",
       "    <tr>\n",
       "      <th>0</th>\n",
       "      <td>HOBBIES_1_001_CA_1_validation</td>\n",
       "      <td>HOBBIES_1_001</td>\n",
       "      <td>HOBBIES_1</td>\n",
       "      <td>HOBBIES</td>\n",
       "      <td>CA_1</td>\n",
       "      <td>CA</td>\n",
       "      <td>0</td>\n",
       "      <td>0</td>\n",
       "      <td>0</td>\n",
       "      <td>0</td>\n",
       "      <td>...</td>\n",
       "      <td>1</td>\n",
       "      <td>3</td>\n",
       "      <td>0</td>\n",
       "      <td>1</td>\n",
       "      <td>1</td>\n",
       "      <td>1</td>\n",
       "      <td>3</td>\n",
       "      <td>0</td>\n",
       "      <td>1</td>\n",
       "      <td>1</td>\n",
       "    </tr>\n",
       "  </tbody>\n",
       "</table>\n",
       "<p>1 rows × 1919 columns</p>\n",
       "</div>"
      ],
      "text/plain": [
       "                              id        item_id    dept_id   cat_id store_id  \\\n",
       "0  HOBBIES_1_001_CA_1_validation  HOBBIES_1_001  HOBBIES_1  HOBBIES     CA_1   \n",
       "\n",
       "  state_id  d_1  d_2  d_3  d_4  ...  d_1904  d_1905  d_1906  d_1907  d_1908  \\\n",
       "0       CA    0    0    0    0  ...       1       3       0       1       1   \n",
       "\n",
       "   d_1909  d_1910  d_1911  d_1912  d_1913  \n",
       "0       1       3       0       1       1  \n",
       "\n",
       "[1 rows x 1919 columns]"
      ]
     },
     "execution_count": 101,
     "metadata": {},
     "output_type": "execute_result"
    }
   ],
   "source": [
    "data.head(1)"
   ]
  },
  {
   "cell_type": "code",
   "execution_count": 102,
   "metadata": {},
   "outputs": [
    {
     "name": "stdout",
     "output_type": "stream",
     "text": [
      "there are 30490 different values for the id column\n",
      "there are 3049 different values for the item_id column\n",
      "there are 7 different values for the dept_id column\n",
      "there are 3 different values for the cat_id column\n",
      "there are 10 different values for the store_id column\n",
      "there are 3 different values for the state_id column\n"
     ]
    }
   ],
   "source": [
    "for col in data.columns.to_list()[0:6]:\n",
    "    print('there are {} different values for the {} column'.format(data[col].nunique(),col))"
   ]
  },
  {
   "cell_type": "code",
   "execution_count": 103,
   "metadata": {},
   "outputs": [
    {
     "data": {
      "text/html": [
       "<div>\n",
       "<style scoped>\n",
       "    .dataframe tbody tr th:only-of-type {\n",
       "        vertical-align: middle;\n",
       "    }\n",
       "\n",
       "    .dataframe tbody tr th {\n",
       "        vertical-align: top;\n",
       "    }\n",
       "\n",
       "    .dataframe thead th {\n",
       "        text-align: right;\n",
       "    }\n",
       "</style>\n",
       "<table border=\"1\" class=\"dataframe\">\n",
       "  <thead>\n",
       "    <tr style=\"text-align: right;\">\n",
       "      <th></th>\n",
       "      <th>store_id</th>\n",
       "      <th>item_id</th>\n",
       "      <th>wm_yr_wk</th>\n",
       "      <th>sell_price</th>\n",
       "    </tr>\n",
       "  </thead>\n",
       "  <tbody>\n",
       "    <tr>\n",
       "      <th>6841118</th>\n",
       "      <td>WI_3</td>\n",
       "      <td>FOODS_3_827</td>\n",
       "      <td>11619</td>\n",
       "      <td>1.0</td>\n",
       "    </tr>\n",
       "    <tr>\n",
       "      <th>6841119</th>\n",
       "      <td>WI_3</td>\n",
       "      <td>FOODS_3_827</td>\n",
       "      <td>11620</td>\n",
       "      <td>1.0</td>\n",
       "    </tr>\n",
       "    <tr>\n",
       "      <th>6841120</th>\n",
       "      <td>WI_3</td>\n",
       "      <td>FOODS_3_827</td>\n",
       "      <td>11621</td>\n",
       "      <td>1.0</td>\n",
       "    </tr>\n",
       "  </tbody>\n",
       "</table>\n",
       "</div>"
      ],
      "text/plain": [
       "        store_id      item_id  wm_yr_wk  sell_price\n",
       "6841118     WI_3  FOODS_3_827     11619         1.0\n",
       "6841119     WI_3  FOODS_3_827     11620         1.0\n",
       "6841120     WI_3  FOODS_3_827     11621         1.0"
      ]
     },
     "execution_count": 103,
     "metadata": {},
     "output_type": "execute_result"
    }
   ],
   "source": [
    "prices.tail(3)"
   ]
  },
  {
   "cell_type": "code",
   "execution_count": 104,
   "metadata": {},
   "outputs": [
    {
     "data": {
      "text/plain": [
       "11101"
      ]
     },
     "execution_count": 104,
     "metadata": {},
     "output_type": "execute_result"
    }
   ],
   "source": [
    "prices.wm_yr_wk.min()"
   ]
  },
  {
   "cell_type": "code",
   "execution_count": 105,
   "metadata": {},
   "outputs": [
    {
     "data": {
      "text/plain": [
       "282"
      ]
     },
     "execution_count": 105,
     "metadata": {},
     "output_type": "execute_result"
    }
   ],
   "source": [
    "prices.wm_yr_wk.nunique()"
   ]
  },
  {
   "cell_type": "code",
   "execution_count": 106,
   "metadata": {},
   "outputs": [
    {
     "data": {
      "text/plain": [
       "11325"
      ]
     },
     "execution_count": 106,
     "metadata": {},
     "output_type": "execute_result"
    }
   ],
   "source": [
    "prices[prices['item_id']=='HOBBIES_1_001'].wm_yr_wk.min()"
   ]
  },
  {
   "cell_type": "markdown",
   "metadata": {},
   "source": [
    "# Feature design"
   ]
  },
  {
   "cell_type": "markdown",
   "metadata": {},
   "source": [
    "## weekly sales"
   ]
  },
  {
   "cell_type": "code",
   "execution_count": 107,
   "metadata": {},
   "outputs": [],
   "source": [
    "new_calendar=calendar.copy()"
   ]
  },
  {
   "cell_type": "code",
   "execution_count": 108,
   "metadata": {},
   "outputs": [
    {
     "name": "stderr",
     "output_type": "stream",
     "text": [
      "<ipython-input-108-1718fc9b1ddf>:3: SettingWithCopyWarning: \n",
      "A value is trying to be set on a copy of a slice from a DataFrame\n",
      "\n",
      "See the caveats in the documentation: https://pandas.pydata.org/pandas-docs/stable/user_guide/indexing.html#returning-a-view-versus-a-copy\n",
      "  new_calendar.wm_yr_wk.iloc[x]=(int(x/7))\n"
     ]
    }
   ],
   "source": [
    "for x in calendar.index:\n",
    "    '''redoing to number of the weeks to turn the calculations easier'''\n",
    "    new_calendar.wm_yr_wk.iloc[x]=(int(x/7))"
   ]
  },
  {
   "cell_type": "code",
   "execution_count": 109,
   "metadata": {},
   "outputs": [],
   "source": [
    "week_maping=pd.Series(new_calendar.wm_yr_wk.values, index=calendar.wm_yr_wk).to_dict() #creating a mapping of the weeks to be further used"
   ]
  },
  {
   "cell_type": "code",
   "execution_count": 267,
   "metadata": {},
   "outputs": [],
   "source": [
    "weekly_sales = pd.DataFrame(data['id'])\n",
    "week_columns = [week for week in range(273)]\n",
    "\n",
    "# Use the `reindex()` method to add columns for each week\n",
    "weekly_sales = weekly_sales.reindex(columns=['id'] + week_columns)\n"
   ]
  },
  {
   "cell_type": "code",
   "execution_count": 271,
   "metadata": {},
   "outputs": [],
   "source": [
    "for week in range(273):\n",
    "    mean = data.iloc[:,6+7*week: 13+7*week].mean(axis=1)\n",
    "    weekly_sales[week] = mean\n",
    "    weekly_sales.loc[data[data.iloc[:,6:13*week].mean(axis=1)==0].index, week] = np.nan\n",
    "weekly_sales[0].replace(0,np.nan,inplace=True)"
   ]
  },
  {
   "cell_type": "code",
   "execution_count": 274,
   "metadata": {},
   "outputs": [],
   "source": [
    "weekly_sales.to_csv('data/intermediate/weekly_sales.csv')"
   ]
  },
  {
   "cell_type": "code",
   "execution_count": 288,
   "metadata": {},
   "outputs": [],
   "source": [
    "weekly_sales=pd.read_csv('data/intermediate/weekly_sales.csv')\n",
    "\n",
    "for col in weekly_sales.columns[2:]:\n",
    "    new_col_name = int(col)\n",
    "    weekly_sales = weekly_sales.rename(columns={col: new_col_name})"
   ]
  },
  {
   "attachments": {},
   "cell_type": "markdown",
   "metadata": {},
   "source": [
    "## Adjusting sales according to decreases/increases on prices."
   ]
  },
  {
   "attachments": {},
   "cell_type": "markdown",
   "metadata": {},
   "source": [
    "For example, a study by McKinsey & Company found that a 1% decrease in price can result in a 0.25% to 0.75% increase in sales for consumer goods such as food, beverages, and household products. Another study by the National Bureau of Economic Research found that the price elasticity of demand for beer was approximately -0.8, indicating that a 10% decrease in price could lead to an 8% increase in sales."
   ]
  },
  {
   "attachments": {},
   "cell_type": "markdown",
   "metadata": {},
   "source": [
    "The principle of price elasticity of demand still applies for price increases, meaning that as prices increase, demand tends to decrease. However, the extent to which demand decreases in response to a price increase varies depending on the product and the market. Generally, the price elasticity of demand tends to be higher for products that have readily available substitutes or for which consumers have a high sensitivity to price changes. A study by the National Bureau of Economic Research found that the price elasticity of demand for beer was approximately -0.8, indicating that a 10% increase in price could lead to an 8% decrease in sales. However, this number will vary depending on the product and market conditions."
   ]
  },
  {
   "cell_type": "code",
   "execution_count": 232,
   "metadata": {},
   "outputs": [],
   "source": [
    "prices['price_ma_8'] = prices.groupby('item_id')['sell_price'].rolling(window=8, min_periods=1).mean().reset_index(0, drop=True)\n",
    "prices['inc-dec'] = prices['sell_price']/prices['price_ma_8']\n",
    "prices['id'] = prices['item_id'] +'_' + prices['store_id'] + '_validation'\n",
    "prices.to_csv('data/processed/sell_prices.csv')\n"
   ]
  },
  {
   "cell_type": "code",
   "execution_count": 233,
   "metadata": {},
   "outputs": [],
   "source": [
    "data_to_adjust_inc = prices[(prices['inc-dec']>1.1)]\n",
    "data_to_adjust_inc = data_to_adjust_inc [data_to_adjust_inc['wm_yr_wk']<11613]\n",
    "\n",
    "data_to_adjust_dec = prices[(prices['inc-dec']<0.9)]\n",
    "data_to_adjust_dec = data_to_adjust_dec [data_to_adjust_dec['wm_yr_wk']<11613]"
   ]
  },
  {
   "cell_type": "code",
   "execution_count": 316,
   "metadata": {},
   "outputs": [],
   "source": [
    "# Create a dictionary to store the adjusted values for each item and store\n",
    "adjusted_values = {}\n",
    "\n",
    "# Iterate over each row in data_to_adjust_inc\n",
    "for _, row in data_to_adjust_inc.iterrows():\n",
    "    id = row['id']\n",
    "    week_nr=row['wm_yr_wk']\n",
    "    \n",
    "    # Calculate the adjusted value\n",
    "    adjusted_value = 1 - ((row['inc-dec'] - 1)*0.8)\n",
    "    \n",
    "    # Retrieve the original sales data for the item and store\n",
    "    sales_data = weekly_sales[(weekly_sales['id'] == id)].loc[:,week_maping.get(week_nr)]\n",
    "    \n",
    "    # Calculate the adjusted sales data and store it in the dictionary\n",
    "    adjusted_sales_data = sales_data*adjusted_value\n",
    "    adjusted_values[(id, week_nr)] = adjusted_sales_data.values[0]\n",
    "\n",
    "for _, row in data_to_adjust_dec.iterrows():\n",
    "    id = row['id']\n",
    "    week_nr=row['wm_yr_wk']\n",
    "    \n",
    "    # Calculate the adjusted value\n",
    "    adjusted_value = 1+(1-row['inc-dec'])*0.8\n",
    "    \n",
    "    # Retrieve the original sales data for the item and store\n",
    "    sales_data = weekly_sales[(weekly_sales['id'] == id)].loc[:,week_maping.get(week_nr)]\n",
    "    \n",
    "    # Calculate the adjusted sales data and store it in the dictionary\n",
    "    adjusted_sales_data = sales_data*adjusted_value\n",
    "    adjusted_values[(id, week_nr)] = adjusted_sales_data.values[0]    "
   ]
  },
  {
   "cell_type": "code",
   "execution_count": 317,
   "metadata": {},
   "outputs": [],
   "source": [
    "for (id,week_nr), adjusted_sales_data in adjusted_values.items():\n",
    "    weekly_sales.loc[(weekly_sales['id'] == id), week_maping.get(week_nr)] = adjusted_sales_data"
   ]
  },
  {
   "cell_type": "code",
   "execution_count": 320,
   "metadata": {},
   "outputs": [],
   "source": [
    "weekly_sales.to_csv('data/processed/weekly_sales.csv')"
   ]
  },
  {
   "cell_type": "markdown",
   "metadata": {},
   "source": [
    "## monthly sales"
   ]
  },
  {
   "cell_type": "code",
   "execution_count": 325,
   "metadata": {},
   "outputs": [],
   "source": [
    "monthly_sales=pd.DataFrame(weekly_sales['id'])\n",
    "\n",
    "for month in range(68):  \n",
    "    monthly_sales[month]=np.nan  \n",
    "    monthly_sales[month]=7*(weekly_sales[month*4]+weekly_sales[month*4+1]+weekly_sales[month*4+2]+weekly_sales[month*4+3])\n",
    "monthly_sales[69]=weekly_sales[272]*7"
   ]
  },
  {
   "cell_type": "code",
   "execution_count": 324,
   "metadata": {},
   "outputs": [
    {
     "data": {
      "text/html": [
       "<div>\n",
       "<style scoped>\n",
       "    .dataframe tbody tr th:only-of-type {\n",
       "        vertical-align: middle;\n",
       "    }\n",
       "\n",
       "    .dataframe tbody tr th {\n",
       "        vertical-align: top;\n",
       "    }\n",
       "\n",
       "    .dataframe thead th {\n",
       "        text-align: right;\n",
       "    }\n",
       "</style>\n",
       "<table border=\"1\" class=\"dataframe\">\n",
       "  <thead>\n",
       "    <tr style=\"text-align: right;\">\n",
       "      <th></th>\n",
       "      <th>0</th>\n",
       "      <th>1</th>\n",
       "      <th>2</th>\n",
       "      <th>3</th>\n",
       "      <th>4</th>\n",
       "      <th>5</th>\n",
       "      <th>6</th>\n",
       "      <th>7</th>\n",
       "      <th>8</th>\n",
       "      <th>9</th>\n",
       "      <th>...</th>\n",
       "      <th>59</th>\n",
       "      <th>60</th>\n",
       "      <th>61</th>\n",
       "      <th>62</th>\n",
       "      <th>63</th>\n",
       "      <th>64</th>\n",
       "      <th>65</th>\n",
       "      <th>66</th>\n",
       "      <th>67</th>\n",
       "      <th>69</th>\n",
       "    </tr>\n",
       "  </thead>\n",
       "  <tbody>\n",
       "    <tr>\n",
       "      <th>0</th>\n",
       "      <td>NaN</td>\n",
       "      <td>NaN</td>\n",
       "      <td>NaN</td>\n",
       "      <td>NaN</td>\n",
       "      <td>NaN</td>\n",
       "      <td>NaN</td>\n",
       "      <td>NaN</td>\n",
       "      <td>NaN</td>\n",
       "      <td>NaN</td>\n",
       "      <td>NaN</td>\n",
       "      <td>...</td>\n",
       "      <td>22.0</td>\n",
       "      <td>18.0</td>\n",
       "      <td>16.0</td>\n",
       "      <td>12.00000</td>\n",
       "      <td>21.0</td>\n",
       "      <td>26.000000</td>\n",
       "      <td>19.000000</td>\n",
       "      <td>30.0</td>\n",
       "      <td>28.000000</td>\n",
       "      <td>2.25</td>\n",
       "    </tr>\n",
       "    <tr>\n",
       "      <th>1</th>\n",
       "      <td>NaN</td>\n",
       "      <td>NaN</td>\n",
       "      <td>NaN</td>\n",
       "      <td>0.000000</td>\n",
       "      <td>0.0</td>\n",
       "      <td>7.0</td>\n",
       "      <td>3.0</td>\n",
       "      <td>11.0</td>\n",
       "      <td>4.000000</td>\n",
       "      <td>9.000000</td>\n",
       "      <td>...</td>\n",
       "      <td>15.0</td>\n",
       "      <td>9.0</td>\n",
       "      <td>9.0</td>\n",
       "      <td>11.00000</td>\n",
       "      <td>27.0</td>\n",
       "      <td>4.000000</td>\n",
       "      <td>4.000000</td>\n",
       "      <td>7.0</td>\n",
       "      <td>5.000000</td>\n",
       "      <td>0.25</td>\n",
       "    </tr>\n",
       "    <tr>\n",
       "      <th>2</th>\n",
       "      <td>NaN</td>\n",
       "      <td>NaN</td>\n",
       "      <td>NaN</td>\n",
       "      <td>NaN</td>\n",
       "      <td>NaN</td>\n",
       "      <td>NaN</td>\n",
       "      <td>NaN</td>\n",
       "      <td>NaN</td>\n",
       "      <td>NaN</td>\n",
       "      <td>NaN</td>\n",
       "      <td>...</td>\n",
       "      <td>9.0</td>\n",
       "      <td>21.0</td>\n",
       "      <td>13.0</td>\n",
       "      <td>20.00000</td>\n",
       "      <td>42.0</td>\n",
       "      <td>13.000000</td>\n",
       "      <td>9.000000</td>\n",
       "      <td>14.0</td>\n",
       "      <td>9.000000</td>\n",
       "      <td>1.75</td>\n",
       "    </tr>\n",
       "    <tr>\n",
       "      <th>3</th>\n",
       "      <td>NaN</td>\n",
       "      <td>10.0</td>\n",
       "      <td>21.0</td>\n",
       "      <td>33.000000</td>\n",
       "      <td>25.0</td>\n",
       "      <td>45.0</td>\n",
       "      <td>44.0</td>\n",
       "      <td>50.0</td>\n",
       "      <td>54.000000</td>\n",
       "      <td>46.000000</td>\n",
       "      <td>...</td>\n",
       "      <td>52.0</td>\n",
       "      <td>50.0</td>\n",
       "      <td>58.0</td>\n",
       "      <td>46.00000</td>\n",
       "      <td>45.0</td>\n",
       "      <td>49.000000</td>\n",
       "      <td>64.000000</td>\n",
       "      <td>49.0</td>\n",
       "      <td>56.000000</td>\n",
       "      <td>3.50</td>\n",
       "    </tr>\n",
       "    <tr>\n",
       "      <th>4</th>\n",
       "      <td>NaN</td>\n",
       "      <td>NaN</td>\n",
       "      <td>NaN</td>\n",
       "      <td>0.000000</td>\n",
       "      <td>50.0</td>\n",
       "      <td>14.0</td>\n",
       "      <td>16.0</td>\n",
       "      <td>38.0</td>\n",
       "      <td>56.945056</td>\n",
       "      <td>23.268577</td>\n",
       "      <td>...</td>\n",
       "      <td>39.0</td>\n",
       "      <td>38.0</td>\n",
       "      <td>38.0</td>\n",
       "      <td>36.00000</td>\n",
       "      <td>45.0</td>\n",
       "      <td>15.000000</td>\n",
       "      <td>32.000000</td>\n",
       "      <td>30.0</td>\n",
       "      <td>34.000000</td>\n",
       "      <td>2.00</td>\n",
       "    </tr>\n",
       "    <tr>\n",
       "      <th>...</th>\n",
       "      <td>...</td>\n",
       "      <td>...</td>\n",
       "      <td>...</td>\n",
       "      <td>...</td>\n",
       "      <td>...</td>\n",
       "      <td>...</td>\n",
       "      <td>...</td>\n",
       "      <td>...</td>\n",
       "      <td>...</td>\n",
       "      <td>...</td>\n",
       "      <td>...</td>\n",
       "      <td>...</td>\n",
       "      <td>...</td>\n",
       "      <td>...</td>\n",
       "      <td>...</td>\n",
       "      <td>...</td>\n",
       "      <td>...</td>\n",
       "      <td>...</td>\n",
       "      <td>...</td>\n",
       "      <td>...</td>\n",
       "      <td>...</td>\n",
       "    </tr>\n",
       "    <tr>\n",
       "      <th>30485</th>\n",
       "      <td>77.54166</td>\n",
       "      <td>112.0</td>\n",
       "      <td>104.0</td>\n",
       "      <td>57.133438</td>\n",
       "      <td>33.0</td>\n",
       "      <td>25.0</td>\n",
       "      <td>19.0</td>\n",
       "      <td>20.0</td>\n",
       "      <td>26.000000</td>\n",
       "      <td>22.000000</td>\n",
       "      <td>...</td>\n",
       "      <td>17.0</td>\n",
       "      <td>18.0</td>\n",
       "      <td>15.0</td>\n",
       "      <td>21.86143</td>\n",
       "      <td>27.0</td>\n",
       "      <td>21.686752</td>\n",
       "      <td>24.472832</td>\n",
       "      <td>9.0</td>\n",
       "      <td>4.000000</td>\n",
       "      <td>0.25</td>\n",
       "    </tr>\n",
       "    <tr>\n",
       "      <th>30486</th>\n",
       "      <td>29.00000</td>\n",
       "      <td>40.0</td>\n",
       "      <td>24.0</td>\n",
       "      <td>25.000000</td>\n",
       "      <td>11.0</td>\n",
       "      <td>25.0</td>\n",
       "      <td>29.0</td>\n",
       "      <td>19.0</td>\n",
       "      <td>15.000000</td>\n",
       "      <td>21.000000</td>\n",
       "      <td>...</td>\n",
       "      <td>0.0</td>\n",
       "      <td>0.0</td>\n",
       "      <td>0.0</td>\n",
       "      <td>0.00000</td>\n",
       "      <td>0.0</td>\n",
       "      <td>0.000000</td>\n",
       "      <td>0.000000</td>\n",
       "      <td>0.0</td>\n",
       "      <td>6.804177</td>\n",
       "      <td>0.00</td>\n",
       "    </tr>\n",
       "    <tr>\n",
       "      <th>30487</th>\n",
       "      <td>129.00000</td>\n",
       "      <td>87.0</td>\n",
       "      <td>37.0</td>\n",
       "      <td>31.000000</td>\n",
       "      <td>28.0</td>\n",
       "      <td>39.0</td>\n",
       "      <td>13.0</td>\n",
       "      <td>0.0</td>\n",
       "      <td>14.000000</td>\n",
       "      <td>33.000000</td>\n",
       "      <td>...</td>\n",
       "      <td>13.0</td>\n",
       "      <td>5.0</td>\n",
       "      <td>3.0</td>\n",
       "      <td>8.00000</td>\n",
       "      <td>23.0</td>\n",
       "      <td>23.000000</td>\n",
       "      <td>19.000000</td>\n",
       "      <td>34.0</td>\n",
       "      <td>25.000000</td>\n",
       "      <td>1.00</td>\n",
       "    </tr>\n",
       "    <tr>\n",
       "      <th>30488</th>\n",
       "      <td>NaN</td>\n",
       "      <td>NaN</td>\n",
       "      <td>NaN</td>\n",
       "      <td>NaN</td>\n",
       "      <td>NaN</td>\n",
       "      <td>NaN</td>\n",
       "      <td>NaN</td>\n",
       "      <td>NaN</td>\n",
       "      <td>NaN</td>\n",
       "      <td>NaN</td>\n",
       "      <td>...</td>\n",
       "      <td>23.0</td>\n",
       "      <td>47.0</td>\n",
       "      <td>43.0</td>\n",
       "      <td>58.00000</td>\n",
       "      <td>41.0</td>\n",
       "      <td>41.000000</td>\n",
       "      <td>34.000000</td>\n",
       "      <td>22.0</td>\n",
       "      <td>30.000000</td>\n",
       "      <td>1.25</td>\n",
       "    </tr>\n",
       "    <tr>\n",
       "      <th>30489</th>\n",
       "      <td>NaN</td>\n",
       "      <td>NaN</td>\n",
       "      <td>NaN</td>\n",
       "      <td>NaN</td>\n",
       "      <td>NaN</td>\n",
       "      <td>NaN</td>\n",
       "      <td>NaN</td>\n",
       "      <td>NaN</td>\n",
       "      <td>NaN</td>\n",
       "      <td>NaN</td>\n",
       "      <td>...</td>\n",
       "      <td>49.0</td>\n",
       "      <td>51.0</td>\n",
       "      <td>63.0</td>\n",
       "      <td>38.00000</td>\n",
       "      <td>45.0</td>\n",
       "      <td>41.000000</td>\n",
       "      <td>45.000000</td>\n",
       "      <td>44.0</td>\n",
       "      <td>52.000000</td>\n",
       "      <td>0.00</td>\n",
       "    </tr>\n",
       "  </tbody>\n",
       "</table>\n",
       "<p>30490 rows × 69 columns</p>\n",
       "</div>"
      ],
      "text/plain": [
       "              0      1      2          3     4     5     6     7          8   \\\n",
       "0            NaN    NaN    NaN        NaN   NaN   NaN   NaN   NaN        NaN   \n",
       "1            NaN    NaN    NaN   0.000000   0.0   7.0   3.0  11.0   4.000000   \n",
       "2            NaN    NaN    NaN        NaN   NaN   NaN   NaN   NaN        NaN   \n",
       "3            NaN   10.0   21.0  33.000000  25.0  45.0  44.0  50.0  54.000000   \n",
       "4            NaN    NaN    NaN   0.000000  50.0  14.0  16.0  38.0  56.945056   \n",
       "...          ...    ...    ...        ...   ...   ...   ...   ...        ...   \n",
       "30485   77.54166  112.0  104.0  57.133438  33.0  25.0  19.0  20.0  26.000000   \n",
       "30486   29.00000   40.0   24.0  25.000000  11.0  25.0  29.0  19.0  15.000000   \n",
       "30487  129.00000   87.0   37.0  31.000000  28.0  39.0  13.0   0.0  14.000000   \n",
       "30488        NaN    NaN    NaN        NaN   NaN   NaN   NaN   NaN        NaN   \n",
       "30489        NaN    NaN    NaN        NaN   NaN   NaN   NaN   NaN        NaN   \n",
       "\n",
       "              9   ...    59    60    61        62    63         64         65  \\\n",
       "0            NaN  ...  22.0  18.0  16.0  12.00000  21.0  26.000000  19.000000   \n",
       "1       9.000000  ...  15.0   9.0   9.0  11.00000  27.0   4.000000   4.000000   \n",
       "2            NaN  ...   9.0  21.0  13.0  20.00000  42.0  13.000000   9.000000   \n",
       "3      46.000000  ...  52.0  50.0  58.0  46.00000  45.0  49.000000  64.000000   \n",
       "4      23.268577  ...  39.0  38.0  38.0  36.00000  45.0  15.000000  32.000000   \n",
       "...          ...  ...   ...   ...   ...       ...   ...        ...        ...   \n",
       "30485  22.000000  ...  17.0  18.0  15.0  21.86143  27.0  21.686752  24.472832   \n",
       "30486  21.000000  ...   0.0   0.0   0.0   0.00000   0.0   0.000000   0.000000   \n",
       "30487  33.000000  ...  13.0   5.0   3.0   8.00000  23.0  23.000000  19.000000   \n",
       "30488        NaN  ...  23.0  47.0  43.0  58.00000  41.0  41.000000  34.000000   \n",
       "30489        NaN  ...  49.0  51.0  63.0  38.00000  45.0  41.000000  45.000000   \n",
       "\n",
       "         66         67    69  \n",
       "0      30.0  28.000000  2.25  \n",
       "1       7.0   5.000000  0.25  \n",
       "2      14.0   9.000000  1.75  \n",
       "3      49.0  56.000000  3.50  \n",
       "4      30.0  34.000000  2.00  \n",
       "...     ...        ...   ...  \n",
       "30485   9.0   4.000000  0.25  \n",
       "30486   0.0   6.804177  0.00  \n",
       "30487  34.0  25.000000  1.00  \n",
       "30488  22.0  30.000000  1.25  \n",
       "30489  44.0  52.000000  0.00  \n",
       "\n",
       "[30490 rows x 69 columns]"
      ]
     },
     "execution_count": 324,
     "metadata": {},
     "output_type": "execute_result"
    }
   ],
   "source": [
    "monthly_sales"
   ]
  },
  {
   "cell_type": "code",
   "execution_count": 326,
   "metadata": {},
   "outputs": [],
   "source": [
    "monthly_sales.to_csv('data/processed/monthly_sales.csv')"
   ]
  }
 ],
 "metadata": {
  "kernelspec": {
   "display_name": "Python 3.8.8 ('base')",
   "language": "python",
   "name": "python3"
  },
  "language_info": {
   "codemirror_mode": {
    "name": "ipython",
    "version": 3
   },
   "file_extension": ".py",
   "mimetype": "text/x-python",
   "name": "python",
   "nbconvert_exporter": "python",
   "pygments_lexer": "ipython3",
   "version": "3.8.8"
  },
  "orig_nbformat": 4,
  "vscode": {
   "interpreter": {
    "hash": "185fae76f31c6296c0dc3374a794587d1205d31c823b1f6a86b15dda80760881"
   }
  }
 },
 "nbformat": 4,
 "nbformat_minor": 2
}
